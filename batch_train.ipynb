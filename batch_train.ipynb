{
 "cells": [
  {
   "cell_type": "code",
   "execution_count": 1,
   "metadata": {},
   "outputs": [],
   "source": [
    "import torch\n",
    "import torch.utils.data as Data"
   ]
  },
  {
   "cell_type": "code",
   "execution_count": 2,
   "metadata": {},
   "outputs": [],
   "source": [
    "BATCH_SIZE = 5\n",
    "# BATCH_SIZE = 8\n",
    "\n",
    "x = torch.linspace(1, 10, 10)       # this is x data (torch tensor)\n",
    "y = torch.linspace(10, 1, 10)       # this is y data (torch tensor)"
   ]
  },
  {
   "cell_type": "code",
   "execution_count": 3,
   "metadata": {},
   "outputs": [
    {
     "name": "stdout",
     "output_type": "stream",
     "text": [
      "tensor([ 1.,  2.,  3.,  4.,  5.,  6.,  7.,  8.,  9., 10.])\n",
      "tensor([10.,  9.,  8.,  7.,  6.,  5.,  4.,  3.,  2.,  1.])\n"
     ]
    }
   ],
   "source": [
    "print(x)\n",
    "print(y)"
   ]
  },
  {
   "cell_type": "code",
   "execution_count": 4,
   "metadata": {},
   "outputs": [],
   "source": [
    "torch_dataset = Data.TensorDataset(x, y)\n",
    "loader = Data.DataLoader(\n",
    "    dataset=torch_dataset,      # torch TensorDataset format\n",
    "    batch_size=BATCH_SIZE,      # mini batch size\n",
    "    shuffle=True,               # random shuffle for training\n",
    "    num_workers=2,              # subprocesses for loading data\n",
    ")"
   ]
  },
  {
   "cell_type": "code",
   "execution_count": 6,
   "metadata": {},
   "outputs": [
    {
     "name": "stdout",
     "output_type": "stream",
     "text": [
      "<torch.utils.data.dataloader.DataLoader object at 0x7f6deb1d2d30>\n"
     ]
    }
   ],
   "source": [
    "print(loader)"
   ]
  },
  {
   "cell_type": "code",
   "execution_count": 11,
   "metadata": {},
   "outputs": [],
   "source": [
    "def show_batch():\n",
    "    for epoch in range(3):   # train entire dataset 3 times\n",
    "        for step, (batch_x, batch_y) in enumerate(loader):  # for each training step\n",
    "            # train your data...\n",
    "            print('Epoch: ', epoch, '| Step: ', step, '| batch x: ', batch_x.numpy(), \n",
    "                  '| batch y: ', batch_y.numpy())"
   ]
  },
  {
   "cell_type": "code",
   "execution_count": 12,
   "metadata": {},
   "outputs": [
    {
     "name": "stdout",
     "output_type": "stream",
     "text": [
      "Epoch:  0 | Step:  0 | batch x:  [5. 6. 8. 4. 3.] | batch y:  [6. 5. 3. 7. 8.]\n",
      "Epoch:  0 | Step:  1 | batch x:  [ 9.  1.  2.  7. 10.] | batch y:  [ 2. 10.  9.  4.  1.]\n",
      "Epoch:  1 | Step:  0 | batch x:  [5. 4. 8. 7. 2.] | batch y:  [6. 7. 3. 4. 9.]\n",
      "Epoch:  1 | Step:  1 | batch x:  [ 6.  3.  9.  1. 10.] | batch y:  [ 5.  8.  2. 10.  1.]\n",
      "Epoch:  2 | Step:  0 | batch x:  [ 3.  8.  6.  5. 10.] | batch y:  [8. 3. 5. 6. 1.]\n",
      "Epoch:  2 | Step:  1 | batch x:  [2. 4. 1. 7. 9.] | batch y:  [ 9.  7. 10.  4.  2.]\n"
     ]
    }
   ],
   "source": [
    "show_batch()"
   ]
  },
  {
   "cell_type": "code",
   "execution_count": null,
   "metadata": {},
   "outputs": [],
   "source": []
  }
 ],
 "metadata": {
  "kernelspec": {
   "display_name": "Python 3",
   "language": "python",
   "name": "python3"
  },
  "language_info": {
   "codemirror_mode": {
    "name": "ipython",
    "version": 3
   },
   "file_extension": ".py",
   "mimetype": "text/x-python",
   "name": "python",
   "nbconvert_exporter": "python",
   "pygments_lexer": "ipython3",
   "version": "3.7.1"
  }
 },
 "nbformat": 4,
 "nbformat_minor": 2
}
